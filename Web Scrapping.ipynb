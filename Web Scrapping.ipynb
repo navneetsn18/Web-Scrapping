{
 "cells": [
  {
   "cell_type": "code",
   "execution_count": 1,
   "metadata": {},
   "outputs": [],
   "source": [
    "import requests\n",
    "from bs4 import BeautifulSoup"
   ]
  },
  {
   "cell_type": "code",
   "execution_count": 2,
   "metadata": {},
   "outputs": [],
   "source": [
    "headers = {\n",
    "    'User-Agent': \"Mozilla/5.0 (X11; Linux x86_64) AppleWebKit/537.36 (KHTML, like Gecko) Chrome/77.0.3865.90 Safari/537.36\"\n",
    "    }\n"
   ]
  },
  {
   "cell_type": "code",
   "execution_count": 12,
   "metadata": {},
   "outputs": [
    {
     "name": "stdout",
     "output_type": "stream",
     "text": [
      "{'Server': 'Cowboy', 'Connection': 'keep-alive', 'X-Powered-By': 'Express', 'Accept-Ranges': 'bytes', 'Cache-Control': 'public, max-age=0', 'Last-Modified': 'Sat, 25 Apr 2020 02:15:09 GMT', 'Etag': 'W/\"8e0-171af1df7c8\"', 'Content-Type': 'text/html; charset=UTF-8', 'Content-Length': '2272', 'Date': 'Sat, 25 Apr 2020 23:13:08 GMT', 'Via': '1.1 vegur'}\n"
     ]
    }
   ],
   "source": [
    "url = \"https://navneetsn18.herokuapp.com/\"\n",
    "result = requests.get(url)\n",
    "print(result.headers)\n"
   ]
  },
  {
   "cell_type": "code",
   "execution_count": 4,
   "metadata": {},
   "outputs": [],
   "source": [
    "response=requests.request('GET',url,headers=headers)"
   ]
  },
  {
   "cell_type": "code",
   "execution_count": 6,
   "metadata": {},
   "outputs": [],
   "source": [
    "data=BeautifulSoup(response.text,'html.parser')"
   ]
  },
  {
   "cell_type": "code",
   "execution_count": 7,
   "metadata": {},
   "outputs": [
    {
     "name": "stdout",
     "output_type": "stream",
     "text": [
      "<!DOCTYPE html>\n",
      "\n",
      "<html lang=\"en\">\n",
      "<head>\n",
      "<meta charset=\"utf-8\"/>\n",
      "<meta content=\"width=device-width, initial-scale=1.0\" name=\"viewport\"/>\n",
      "<link href=\"https://cdnjs.cloudflare.com/ajax/libs/font-awesome/4.7.0/css/font-awesome.min.css\" rel=\"stylesheet\"/>\n",
      "<title>navneetsn18.dev</title>\n",
      "<link href=\"/css/portfolio.css\" rel=\"stylesheet\"/>\n",
      "<link href=\"/img/people.png\" rel=\"shortcut icon\" type=\"image/x-icon\"/>\n",
      "</head>\n",
      "<body>\n",
      "<div class=\"header\">\n",
      "<a href=\"#\" id=\"siteName\">C:/</a>\n",
      "<ul class=\"navLinks\">\n",
      "<a href=\"about\" id=\"navLinkChild\">About</a>\n",
      "<a href=\"project\" id=\"navLinkChild\">Project</a>\n",
      "<a href=\"contact\" id=\"navLinkChild\">Contact</a>\n",
      "</ul>\n",
      "</div>\n",
      "<div class=\"main\">\n",
      "<div class=\"conatiner1\">\n",
      "<h1>Hii I'm <span id=\"hovercontent\">Navneet Singh Negi.</span></h1>\n",
      "<h1>Nice to meet you!</h1>\n",
      "<br/>\n",
      "<p id=\"mob-pro\">I am a <span id=\"hovercontent\">Full Stack Web Developer</span> with a passion for working on distruptive, life changing projects. </p>\n",
      "<br/>\n",
      "<a href=\"about\" id=\"learnMore\">Learn More</a>\n",
      "</div>\n",
      "<div class=\"container2\">\n",
      "<h1 id=\"lets-connect\">Let's <span id=\"hovercontent\">Connect </span></h1>\n",
      "<div class=\"codingPanel\">\n",
      "<p id=\"codingText\">&gt; <span id=\"code\"></span><span id=\"cursor\"> </span></p>\n",
      "</div>\n",
      "<br/>\n",
      "<div class=\"connect\">\n",
      "<a href=\"mailto:navneetsn18@gmail.com\" target=\"blank\"><i class=\"fa fa-envelope\" style=\"font-size:48px;color:#071e3d;\"></i></a>\n",
      "<a href=\"https://www.linkedin.com/in/navneet-singh-negi-241166169/\" target=\"blank\"><i class=\"fa fa-linkedin\" style=\"font-size:48px;color:#071e3d;\"></i></a>\n",
      "<a href=\"https://github.com/navneetsn18\" target=\"blank\"><i class=\"fa fa-github\" style=\"font-size:48px;color:#071e3d;\"></i></a>\n",
      "<a href=\"https://www.instagram.com/navneetsn18/\" target=\"blank\"><i class=\"fa fa-instagram\" style=\"font-size:48px;color:#071e3d;\"></i></a>\n",
      "</div>\n",
      "</div>\n",
      "</div>\n",
      "<script src=\"/js/script.js\"></script>\n",
      "</body>\n",
      "</html>\n"
     ]
    }
   ],
   "source": [
    "print(data)"
   ]
  },
  {
   "cell_type": "code",
   "execution_count": 8,
   "metadata": {},
   "outputs": [],
   "source": [
    "body = data.find(name=\"body\")"
   ]
  },
  {
   "cell_type": "code",
   "execution_count": 9,
   "metadata": {},
   "outputs": [
    {
     "name": "stdout",
     "output_type": "stream",
     "text": [
      "<body>\n",
      "<div class=\"header\">\n",
      "<a href=\"#\" id=\"siteName\">C:/</a>\n",
      "<ul class=\"navLinks\">\n",
      "<a href=\"about\" id=\"navLinkChild\">About</a>\n",
      "<a href=\"project\" id=\"navLinkChild\">Project</a>\n",
      "<a href=\"contact\" id=\"navLinkChild\">Contact</a>\n",
      "</ul>\n",
      "</div>\n",
      "<div class=\"main\">\n",
      "<div class=\"conatiner1\">\n",
      "<h1>Hii I'm <span id=\"hovercontent\">Navneet Singh Negi.</span></h1>\n",
      "<h1>Nice to meet you!</h1>\n",
      "<br/>\n",
      "<p id=\"mob-pro\">I am a <span id=\"hovercontent\">Full Stack Web Developer</span> with a passion for working on distruptive, life changing projects. </p>\n",
      "<br/>\n",
      "<a href=\"about\" id=\"learnMore\">Learn More</a>\n",
      "</div>\n",
      "<div class=\"container2\">\n",
      "<h1 id=\"lets-connect\">Let's <span id=\"hovercontent\">Connect </span></h1>\n",
      "<div class=\"codingPanel\">\n",
      "<p id=\"codingText\">&gt; <span id=\"code\"></span><span id=\"cursor\"> </span></p>\n",
      "</div>\n",
      "<br/>\n",
      "<div class=\"connect\">\n",
      "<a href=\"mailto:navneetsn18@gmail.com\" target=\"blank\"><i class=\"fa fa-envelope\" style=\"font-size:48px;color:#071e3d;\"></i></a>\n",
      "<a href=\"https://www.linkedin.com/in/navneet-singh-negi-241166169/\" target=\"blank\"><i class=\"fa fa-linkedin\" style=\"font-size:48px;color:#071e3d;\"></i></a>\n",
      "<a href=\"https://github.com/navneetsn18\" target=\"blank\"><i class=\"fa fa-github\" style=\"font-size:48px;color:#071e3d;\"></i></a>\n",
      "<a href=\"https://www.instagram.com/navneetsn18/\" target=\"blank\"><i class=\"fa fa-instagram\" style=\"font-size:48px;color:#071e3d;\"></i></a>\n",
      "</div>\n",
      "</div>\n",
      "</div>\n",
      "<script src=\"/js/script.js\"></script>\n",
      "</body>\n"
     ]
    }
   ],
   "source": [
    "print(body)"
   ]
  },
  {
   "cell_type": "code",
   "execution_count": 14,
   "metadata": {},
   "outputs": [
    {
     "name": "stdout",
     "output_type": "stream",
     "text": [
      "About\n"
     ]
    }
   ],
   "source": [
    "print(body.find(id=\"navLinkChild\").text)"
   ]
  },
  {
   "cell_type": "code",
   "execution_count": 19,
   "metadata": {},
   "outputs": [
    {
     "name": "stdout",
     "output_type": "stream",
     "text": [
      "[<a href=\"about\" id=\"navLinkChild\">About</a>, <a href=\"project\" id=\"navLinkChild\">Project</a>, <a href=\"contact\" id=\"navLinkChild\">Contact</a>]\n"
     ]
    }
   ],
   "source": [
    "print(body.findAll(id=\"navLinkChild\"))"
   ]
  },
  {
   "cell_type": "code",
   "execution_count": 20,
   "metadata": {},
   "outputs": [
    {
     "name": "stdout",
     "output_type": "stream",
     "text": [
      "About\n",
      "Project\n",
      "Contact\n"
     ]
    }
   ],
   "source": [
    "for child in body.findAll(id=\"navLinkChild\"):\n",
    "    print(child.text)"
   ]
  },
  {
   "cell_type": "code",
   "execution_count": null,
   "metadata": {},
   "outputs": [],
   "source": [
    " "
   ]
  }
 ],
 "metadata": {
  "kernelspec": {
   "display_name": "Python 3",
   "language": "python",
   "name": "python3"
  },
  "language_info": {
   "codemirror_mode": {
    "name": "ipython",
    "version": 3
   },
   "file_extension": ".py",
   "mimetype": "text/x-python",
   "name": "python",
   "nbconvert_exporter": "python",
   "pygments_lexer": "ipython3",
   "version": "3.7.6"
  }
 },
 "nbformat": 4,
 "nbformat_minor": 4
}
