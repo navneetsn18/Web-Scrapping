{
 "cells": [
  {
   "cell_type": "code",
   "execution_count": 37,
   "metadata": {},
   "outputs": [],
   "source": [
    "import requests\n",
    "from bs4 import BeautifulSoup\n",
    "import pandas as pd\n",
    "import re"
   ]
  },
  {
   "cell_type": "code",
   "execution_count": 59,
   "metadata": {},
   "outputs": [],
   "source": [
    "for i in range(1,33):\n",
    "    url=\"https://internshala.com/internships/work-from-home-computer%20science-jobs/page-\"+str(i)\n",
    "    request=requests.get(url)\n",
    "    htmldata=BeautifulSoup(request.text,'html.parser')\n",
    "    data=htmldata.find(class_=\"company\")\n",
    "    job=[]\n",
    "    company=[]\n",
    "    link=[]\n",
    "    stipend=[]\n",
    "    for data in htmldata.findAll(class_=\"company\"):\n",
    "        job.append(data.find('a').text)\n",
    "        c=data.find(class_=\"link_display_like_text\").text\n",
    "        c=c.strip()\n",
    "        company.append(c)\n",
    "        temp=data.find('a',href=True)\n",
    "        link.append(\"https://internshala.com\"+temp['href'])\n",
    "    for i in htmldata.findAll(class_=\"stipend_container_table_cell\"):\n",
    "        j=i.text\n",
    "        j=j.strip()\n",
    "        stipend.append(j)\n",
    "    finaldata=pd.DataFrame({\n",
    "        'Comapny Name':company,\n",
    "        'Job title':job,\n",
    "        'Link':link,\n",
    "        'Stipend':stipend\n",
    "    })\n",
    "    finaldata.to_csv(\"Internship Data.csv\",mode='a',header=False)"
   ]
  },
  {
   "cell_type": "code",
   "execution_count": null,
   "metadata": {},
   "outputs": [],
   "source": []
  }
 ],
 "metadata": {
  "kernelspec": {
   "display_name": "Python 3",
   "language": "python",
   "name": "python3"
  },
  "language_info": {
   "codemirror_mode": {
    "name": "ipython",
    "version": 3
   },
   "file_extension": ".py",
   "mimetype": "text/x-python",
   "name": "python",
   "nbconvert_exporter": "python",
   "pygments_lexer": "ipython3",
   "version": "3.7.6"
  }
 },
 "nbformat": 4,
 "nbformat_minor": 4
}
