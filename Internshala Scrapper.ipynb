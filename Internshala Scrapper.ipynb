{
 "cells": [
  {
   "cell_type": "code",
   "execution_count": 2,
   "metadata": {},
   "outputs": [],
   "source": [
    "import requests\n",
    "from bs4 import BeautifulSoup\n",
    "import pandas as pd\n",
    "import re"
   ]
  },
  {
   "cell_type": "code",
   "execution_count": 22,
   "metadata": {},
   "outputs": [],
   "source": [
    "job=['Job title']\n",
    "company=['Comapny Name']\n",
    "link=['Link']\n",
    "stipend=['Stipend']\n",
    "skill=['Skills Required']\n",
    "duration=['Duration']\n",
    "for i in range(1,33):\n",
    "    url=\"https://internshala.com/internships/work-from-home-computer%20science-jobs/page-\"+str(i)\n",
    "    request=requests.get(url)\n",
    "    htmldata=BeautifulSoup(request.text,'html.parser')\n",
    "    data=htmldata.find(class_=\"company\")\n",
    "    for data in htmldata.findAll(class_=\"company\"):\n",
    "        job.append(data.find('a').text)\n",
    "        c=data.find(class_=\"link_display_like_text\").text\n",
    "        c=c.strip()\n",
    "        company.append(c)\n",
    "        temp=data.find('a',href=True)\n",
    "        link.append(\"https://internshala.com\"+temp['href'])\n",
    "        url=\"https://internshala.com\"+temp['href']\n",
    "        request=requests.get(url)\n",
    "        newhtmldata=BeautifulSoup(request.text,'html.parser')\n",
    "        newdata=newhtmldata.find(id=\"skillNames\")\n",
    "        try:\n",
    "            skill.append(newdata.text)\n",
    "        except AttributeError:\n",
    "            skill.append(\"None\")\n",
    "        next_newdata=newhtmldata.find(class_=\"table-responsive\")\n",
    "        try:\n",
    "            duration.append(next_newdata.find('td').next_sibling.next_sibling.text.strip())\n",
    "        except AttributeError:\n",
    "            duration.append(\"None\")\n",
    "    for i in htmldata.findAll(class_=\"stipend_container_table_cell\"):\n",
    "        j=i.text\n",
    "        j=j.strip()\n",
    "        stipend.append(j)\n",
    "    finaldata=pd.DataFrame({\n",
    "        'Comapny Name':company,\n",
    "        'Job title':job,\n",
    "        'Stipend':stipend,\n",
    "        'Skills':skill,\n",
    "        'Duration':duration,\n",
    "        'Link':link\n",
    "    })\n",
    "    finaldata.to_csv(\"Internship Data.csv\",mode='w',header=False)"
   ]
  },
  {
   "cell_type": "code",
   "execution_count": null,
   "metadata": {},
   "outputs": [],
   "source": []
  },
  {
   "cell_type": "code",
   "execution_count": null,
   "metadata": {},
   "outputs": [],
   "source": []
  },
  {
   "cell_type": "code",
   "execution_count": null,
   "metadata": {},
   "outputs": [],
   "source": []
  }
 ],
 "metadata": {
  "kernelspec": {
   "display_name": "Python 3",
   "language": "python",
   "name": "python3"
  },
  "language_info": {
   "codemirror_mode": {
    "name": "ipython",
    "version": 3
   },
   "file_extension": ".py",
   "mimetype": "text/x-python",
   "name": "python",
   "nbconvert_exporter": "python",
   "pygments_lexer": "ipython3",
   "version": "3.7.6"
  }
 },
 "nbformat": 4,
 "nbformat_minor": 4
}
